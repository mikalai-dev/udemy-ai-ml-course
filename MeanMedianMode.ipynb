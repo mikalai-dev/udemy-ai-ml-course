{
 "cells": [
  {
   "cell_type": "markdown",
   "metadata": {},
   "source": [
    "# Mean, Median, Mode, and introducing NumPy"
   ]
  },
  {
   "cell_type": "markdown",
   "metadata": {},
   "source": [
    "## Mean vs. Median"
   ]
  },
  {
   "cell_type": "markdown",
   "metadata": {},
   "source": [
    "Let's create some fake income data, centered around 27,000 with a normal distribution and standard deviation of 15,000, with 10,000 data points. (We'll discuss those terms more later, if you're not familiar with them.)\n",
    "\n",
    "Then, compute the mean (average) - it should be close to 27,000:"
   ]
  },
  {
   "cell_type": "code",
   "execution_count": 5,
   "metadata": {
    "tags": []
   },
   "outputs": [
    {
     "data": {
      "text/plain": [
       "27017.20756735324"
      ]
     },
     "execution_count": 5,
     "metadata": {},
     "output_type": "execute_result"
    }
   ],
   "source": [
    "import numpy as np\n",
    "\n",
    "incomes = np.random.normal(27000, 15000, 10000)\n",
    "np.mean(incomes)"
   ]
  },
  {
   "cell_type": "markdown",
   "metadata": {},
   "source": [
    "We can segment the income data into 50 buckets, and plot it as a histogram:"
   ]
  },
  {
   "cell_type": "code",
   "execution_count": 6,
   "metadata": {
    "tags": []
   },
   "outputs": [
    {
     "data": {
      "image/png": "[encoded data removed]",
      "text/plain": [
       "<Figure size 640x480 with 1 Axes>"
      ]
     },
     "metadata": {},
     "output_type": "display_data"
    }
   ],
   "source": [
    "%matplotlib inline\n",
    "import matplotlib.pyplot as plt\n",
    "plt.hist(incomes, 50)\n",
    "plt.show()"
   ]
  },
  {
   "cell_type": "markdown",
   "metadata": {},
   "source": [
    "Now compute the median - since we have a nice, even distribution it too should be close to 27,000:"
   ]
  },
  {
   "cell_type": "code",
   "execution_count": 7,
   "metadata": {
    "tags": []
   },
   "outputs": [
    {
     "data": {
      "text/plain": [
       "27150.38823727672"
      ]
     },
     "execution_count": 7,
     "metadata": {},
     "output_type": "execute_result"
    }
   ],
   "source": [
    "np.median(incomes)"
   ]
  },
  {
   "cell_type": "markdown",
   "metadata": {},
   "source": [
    "Now we'll add Jeff Bezos into the mix. Darn income inequality!"
   ]
  },
  {
   "cell_type": "code",
   "execution_count": 8,
   "metadata": {
    "tags": []
   },
   "outputs": [],
   "source": [
    "incomes = np.append(incomes, [1000000000])"
   ]
  },
  {
   "cell_type": "markdown",
   "metadata": {},
   "source": [
    "The median won't change much, but the mean does:"
   ]
  },
  {
   "cell_type": "code",
   "execution_count": 11,
   "metadata": {
    "tags": []
   },
   "outputs": [
    {
     "data": {
      "text/plain": [
       "27150.92449457591"
      ]
     },
     "execution_count": 11,
     "metadata": {},
     "output_type": "execute_result"
    }
   ],
   "source": [
    "np.median(incomes)"
   ]
  },
  {
   "cell_type": "code",
   "execution_count": 12,
   "metadata": {
    "tags": []
   },
   "outputs": [
    {
     "data": {
      "text/plain": [
       "127004.50711664159"
      ]
     },
     "execution_count": 12,
     "metadata": {},
     "output_type": "execute_result"
    }
   ],
   "source": [
    "np.mean(incomes)"
   ]
  },
  {
   "cell_type": "markdown",
   "metadata": {},
   "source": [
    "## Mode"
   ]
  },
  {
   "cell_type": "markdown",
   "metadata": {},
   "source": [
    "Next, let's generate some fake age data for 500 people:"
   ]
  },
  {
   "cell_type": "code",
   "execution_count": 15,
   "metadata": {
    "tags": []
   },
   "outputs": [
    {
     "data": {
      "text/plain": [
       "array([57, 86, 86, 64, 64, 38, 22, 55, 21, 42, 50, 86, 83, 58, 56, 81, 57,\n",
       "       85, 52, 47, 52, 53, 55, 51, 19, 85, 50, 82, 28, 33, 57, 25, 67, 24,\n",
       "       70, 61, 21, 41, 83, 61, 61, 86, 73, 89, 79, 49, 87, 40, 80, 40, 76,\n",
       "       65, 54, 48, 23, 58, 89, 60, 72, 80, 59, 80, 51, 24, 35, 70, 77, 53,\n",
       "       77, 20, 61, 49, 62, 21, 37, 37, 63, 61, 72, 47, 18, 44, 72, 29, 45,\n",
       "       21, 55, 73, 81, 70, 45, 70, 68, 89, 33, 59, 19, 78, 21, 71, 25, 30,\n",
       "       24, 78, 34, 69, 26, 86, 25, 68, 50, 63, 37, 25, 68, 69, 89, 87, 78,\n",
       "       20, 33, 28, 41, 68, 67, 28, 57, 86, 24, 79, 60, 67, 45, 35, 49, 49,\n",
       "       21, 76, 47, 85, 36, 41, 47, 59, 48, 23, 22, 22, 50, 64, 35, 34, 31,\n",
       "       21, 63, 73, 54, 50, 31, 77, 79, 62, 69, 31, 60, 18, 80, 82, 46, 79,\n",
       "       43, 67, 28, 42, 57, 30, 50, 86, 71, 87, 24, 53, 46, 88, 64, 53, 53,\n",
       "       75, 52, 53, 18, 25, 38, 51, 56, 34, 60, 43, 78, 20, 89, 50, 58, 32,\n",
       "       67, 66, 89, 76, 28, 37, 76, 34, 59, 84, 59, 85, 64, 49, 59, 34, 26,\n",
       "       50, 78, 43, 83, 47, 31, 67, 40, 87, 54, 72, 75, 21, 67, 89, 63, 36,\n",
       "       46, 78, 35, 78, 53, 38, 61, 53, 46, 75, 69, 67, 43, 82, 39, 88, 71,\n",
       "       37, 79, 45, 69, 63, 44, 59, 86, 38, 25, 83, 34, 75, 72, 66, 56, 62,\n",
       "       30, 48, 40, 57, 58, 21, 85, 25, 78, 84, 36, 72, 51, 63, 88, 79, 64,\n",
       "       22, 44, 84, 76, 21, 64, 49, 66, 49, 46, 40, 24, 29, 44, 59, 89, 47,\n",
       "       34, 55, 55, 60, 86, 41, 80, 61, 49, 21, 89, 37, 80, 68, 89, 51, 64,\n",
       "       80, 65, 28, 72, 51, 60, 83, 81, 52, 70, 23, 72, 65, 43, 26, 25, 30,\n",
       "       64, 35, 46, 46, 77, 24, 24, 72, 38, 43, 72, 19, 85, 58, 76, 88, 22,\n",
       "       73, 70, 87, 59, 52, 31, 74, 29, 54, 50, 67, 81, 70, 66, 75, 89, 31,\n",
       "       21, 24, 66, 37, 44, 59, 70, 35, 89, 77, 81, 29, 68, 78, 58, 57, 84,\n",
       "       45, 48, 82, 24, 67, 56, 60, 30, 75, 45, 67, 24, 58, 76, 55, 19, 52,\n",
       "       34, 33, 24, 53, 55, 55, 64, 89, 20, 25, 85, 56, 20, 68, 82, 63, 61,\n",
       "       79, 20, 57, 83, 76, 57, 31, 37, 43, 32, 81, 45, 80, 50, 72, 84, 19,\n",
       "       66, 21, 81, 86, 68, 65, 76, 46, 77, 40, 37, 20, 60, 21, 73, 74, 35,\n",
       "       78, 66, 51, 82, 85, 62, 24, 72, 48, 53, 22, 34, 31, 27, 89, 40, 58,\n",
       "       66, 77, 18, 31, 58, 54, 30, 80, 54, 41, 59, 24, 48, 20, 46, 70, 65,\n",
       "       23, 80, 47, 60, 52, 85, 60])"
      ]
     },
     "execution_count": 15,
     "metadata": {},
     "output_type": "execute_result"
    }
   ],
   "source": [
    "ages = np.random.randint(18, high=90, size=500)\n",
    "ages"
   ]
  },
  {
   "cell_type": "code",
   "execution_count": 16,
   "metadata": {
    "tags": []
   },
   "outputs": [
    {
     "data": {
      "text/plain": [
       "ModeResult(mode=21, count=14)"
      ]
     },
     "execution_count": 16,
     "metadata": {},
     "output_type": "execute_result"
    }
   ],
   "source": [
    "from scipy import stats\n",
    "stats.mode(ages)"
   ]
  },
  {
   "cell_type": "code",
   "execution_count": null,
   "metadata": {},
   "outputs": [],
   "source": []
  }
 ],
 "metadata": {
  "kernelspec": {
   "display_name": "Python 3 (ipykernel)",
   "language": "python",
   "name": "python3"
  },
  "language_info": {
   "codemirror_mode": {
    "name": "ipython",
    "version": 3
   },
   "file_extension": ".py",
   "mimetype": "text/x-python",
   "name": "python",
   "nbconvert_exporter": "python",
   "pygments_lexer": "ipython3",
   "version": "3.11.5"
  }
 },
 "nbformat": 4,
 "nbformat_minor": 4
}
